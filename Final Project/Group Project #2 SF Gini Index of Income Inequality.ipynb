{
 "cells": [
  {
   "cell_type": "code",
   "execution_count": 1,
   "metadata": {},
   "outputs": [],
   "source": [
    "# Spatial Distribution of San Francisco's Gini Index of Income Inequality\n",
    "# Prepared by Elizabeth Owen (Individual Project)\n",
    "# The purpose of this analysis is to visualize the City's inequality levels to gain a better understanding of neighborhood inequality."
   ]
  },
  {
   "cell_type": "code",
   "execution_count": 2,
   "metadata": {},
   "outputs": [],
   "source": [
    "# First, we need to import commands to visualize our data:\n",
    "\n",
    "# for general data wrangling tasks\n",
    "import pandas as pd\n",
    "\n",
    "# to read and visualize spatial data\n",
    "import geopandas as gpd\n",
    "\n",
    "# to provide basemaps \n",
    "import contextily as ctx\n",
    "\n",
    "# to give more power to your figures (plots)\n",
    "import matplotlib.pyplot as plt"
   ]
  },
  {
   "cell_type": "code",
   "execution_count": 6,
   "metadata": {},
   "outputs": [],
   "source": [
    "# Import income index score file\n",
    "gini = gpd.read_file('sfgini.geojson')"
   ]
  },
  {
   "cell_type": "code",
   "execution_count": 7,
   "metadata": {},
   "outputs": [
    {
     "data": {
      "text/plain": [
       "(198, 5)"
      ]
     },
     "execution_count": 7,
     "metadata": {},
     "output_type": "execute_result"
    }
   ],
   "source": [
    "# How many rows and columns of data?\n",
    "gini.shape"
   ]
  },
  {
   "cell_type": "code",
   "execution_count": 8,
   "metadata": {},
   "outputs": [
    {
     "data": {
      "text/html": [
       "<div>\n",
       "<style scoped>\n",
       "    .dataframe tbody tr th:only-of-type {\n",
       "        vertical-align: middle;\n",
       "    }\n",
       "\n",
       "    .dataframe tbody tr th {\n",
       "        vertical-align: top;\n",
       "    }\n",
       "\n",
       "    .dataframe thead th {\n",
       "        text-align: right;\n",
       "    }\n",
       "</style>\n",
       "<table border=\"1\" class=\"dataframe\">\n",
       "  <thead>\n",
       "    <tr style=\"text-align: right;\">\n",
       "      <th></th>\n",
       "      <th>geoid</th>\n",
       "      <th>name</th>\n",
       "      <th>B19083001</th>\n",
       "      <th>B19083001, Error</th>\n",
       "      <th>geometry</th>\n",
       "    </tr>\n",
       "  </thead>\n",
       "  <tbody>\n",
       "    <tr>\n",
       "      <th>0</th>\n",
       "      <td>14000US06075010100</td>\n",
       "      <td>Census Tract 101, San Francisco, CA</td>\n",
       "      <td>0.5473</td>\n",
       "      <td>0.0381</td>\n",
       "      <td>MULTIPOLYGON (((-122.42108 37.81289, -122.4201...</td>\n",
       "    </tr>\n",
       "    <tr>\n",
       "      <th>1</th>\n",
       "      <td>14000US06075010200</td>\n",
       "      <td>Census Tract 102, San Francisco, CA</td>\n",
       "      <td>0.5606</td>\n",
       "      <td>0.0607</td>\n",
       "      <td>MULTIPOLYGON (((-122.42663 37.80974, -122.4265...</td>\n",
       "    </tr>\n",
       "    <tr>\n",
       "      <th>2</th>\n",
       "      <td>14000US06075010300</td>\n",
       "      <td>Census Tract 103, San Francisco, CA</td>\n",
       "      <td>0.4512</td>\n",
       "      <td>0.0376</td>\n",
       "      <td>MULTIPOLYGON (((-122.41872 37.80593, -122.4183...</td>\n",
       "    </tr>\n",
       "    <tr>\n",
       "      <th>3</th>\n",
       "      <td>14000US06075010400</td>\n",
       "      <td>Census Tract 104, San Francisco, CA</td>\n",
       "      <td>0.5328</td>\n",
       "      <td>0.0693</td>\n",
       "      <td>MULTIPOLYGON (((-122.41488 37.80354, -122.4137...</td>\n",
       "    </tr>\n",
       "    <tr>\n",
       "      <th>4</th>\n",
       "      <td>14000US06075010500</td>\n",
       "      <td>Census Tract 105, San Francisco, CA</td>\n",
       "      <td>0.5094</td>\n",
       "      <td>0.0544</td>\n",
       "      <td>MULTIPOLYGON (((-122.40517 37.80476, -122.4035...</td>\n",
       "    </tr>\n",
       "  </tbody>\n",
       "</table>\n",
       "</div>"
      ],
      "text/plain": [
       "                geoid                                 name  B19083001  \\\n",
       "0  14000US06075010100  Census Tract 101, San Francisco, CA     0.5473   \n",
       "1  14000US06075010200  Census Tract 102, San Francisco, CA     0.5606   \n",
       "2  14000US06075010300  Census Tract 103, San Francisco, CA     0.4512   \n",
       "3  14000US06075010400  Census Tract 104, San Francisco, CA     0.5328   \n",
       "4  14000US06075010500  Census Tract 105, San Francisco, CA     0.5094   \n",
       "\n",
       "   B19083001, Error                                           geometry  \n",
       "0            0.0381  MULTIPOLYGON (((-122.42108 37.81289, -122.4201...  \n",
       "1            0.0607  MULTIPOLYGON (((-122.42663 37.80974, -122.4265...  \n",
       "2            0.0376  MULTIPOLYGON (((-122.41872 37.80593, -122.4183...  \n",
       "3            0.0693  MULTIPOLYGON (((-122.41488 37.80354, -122.4137...  \n",
       "4            0.0544  MULTIPOLYGON (((-122.40517 37.80476, -122.4035...  "
      ]
     },
     "execution_count": 8,
     "metadata": {},
     "output_type": "execute_result"
    }
   ],
   "source": [
    "# What does the data look like?\n",
    "gini.head()"
   ]
  },
  {
   "cell_type": "code",
   "execution_count": 9,
   "metadata": {},
   "outputs": [
    {
     "data": {
      "text/plain": [
       "<matplotlib.axes._subplots.AxesSubplot at 0x7f571e81f400>"
      ]
     },
     "execution_count": 9,
     "metadata": {},
     "output_type": "execute_result"
    },
    {
     "data": {
      "image/png": "[encoded data removed]",
      "text/plain": [
       "<Figure size 720x720 with 1 Axes>"
      ]
     },
     "metadata": {
      "needs_background": "light"
     },
     "output_type": "display_data"
    }
   ],
   "source": [
    "# Let's visualize the dataset\n",
    "gini.plot(figsize=(10,10))"
   ]
  },
  {
   "cell_type": "code",
   "execution_count": 11,
   "metadata": {},
   "outputs": [],
   "source": [
    "# Remove the county data row\n",
    "gini = gini.drop([0])"
   ]
  },
  {
   "cell_type": "code",
   "execution_count": 12,
   "metadata": {},
   "outputs": [
    {
     "data": {
      "text/html": [
       "<div>\n",
       "<style scoped>\n",
       "    .dataframe tbody tr th:only-of-type {\n",
       "        vertical-align: middle;\n",
       "    }\n",
       "\n",
       "    .dataframe tbody tr th {\n",
       "        vertical-align: top;\n",
       "    }\n",
       "\n",
       "    .dataframe thead th {\n",
       "        text-align: right;\n",
       "    }\n",
       "</style>\n",
       "<table border=\"1\" class=\"dataframe\">\n",
       "  <thead>\n",
       "    <tr style=\"text-align: right;\">\n",
       "      <th></th>\n",
       "      <th>geoid</th>\n",
       "      <th>name</th>\n",
       "      <th>B19083001</th>\n",
       "      <th>B19083001, Error</th>\n",
       "      <th>geometry</th>\n",
       "    </tr>\n",
       "  </thead>\n",
       "  <tbody>\n",
       "    <tr>\n",
       "      <th>1</th>\n",
       "      <td>14000US06075010200</td>\n",
       "      <td>Census Tract 102, San Francisco, CA</td>\n",
       "      <td>0.5606</td>\n",
       "      <td>0.0607</td>\n",
       "      <td>MULTIPOLYGON (((-122.42663 37.80974, -122.4265...</td>\n",
       "    </tr>\n",
       "    <tr>\n",
       "      <th>2</th>\n",
       "      <td>14000US06075010300</td>\n",
       "      <td>Census Tract 103, San Francisco, CA</td>\n",
       "      <td>0.4512</td>\n",
       "      <td>0.0376</td>\n",
       "      <td>MULTIPOLYGON (((-122.41872 37.80593, -122.4183...</td>\n",
       "    </tr>\n",
       "    <tr>\n",
       "      <th>3</th>\n",
       "      <td>14000US06075010400</td>\n",
       "      <td>Census Tract 104, San Francisco, CA</td>\n",
       "      <td>0.5328</td>\n",
       "      <td>0.0693</td>\n",
       "      <td>MULTIPOLYGON (((-122.41488 37.80354, -122.4137...</td>\n",
       "    </tr>\n",
       "    <tr>\n",
       "      <th>4</th>\n",
       "      <td>14000US06075010500</td>\n",
       "      <td>Census Tract 105, San Francisco, CA</td>\n",
       "      <td>0.5094</td>\n",
       "      <td>0.0544</td>\n",
       "      <td>MULTIPOLYGON (((-122.40517 37.80476, -122.4035...</td>\n",
       "    </tr>\n",
       "    <tr>\n",
       "      <th>5</th>\n",
       "      <td>14000US06075010600</td>\n",
       "      <td>Census Tract 106, San Francisco, CA</td>\n",
       "      <td>0.5615</td>\n",
       "      <td>0.0435</td>\n",
       "      <td>MULTIPOLYGON (((-122.41102 37.80117, -122.4093...</td>\n",
       "    </tr>\n",
       "  </tbody>\n",
       "</table>\n",
       "</div>"
      ],
      "text/plain": [
       "                geoid                                 name  B19083001  \\\n",
       "1  14000US06075010200  Census Tract 102, San Francisco, CA     0.5606   \n",
       "2  14000US06075010300  Census Tract 103, San Francisco, CA     0.4512   \n",
       "3  14000US06075010400  Census Tract 104, San Francisco, CA     0.5328   \n",
       "4  14000US06075010500  Census Tract 105, San Francisco, CA     0.5094   \n",
       "5  14000US06075010600  Census Tract 106, San Francisco, CA     0.5615   \n",
       "\n",
       "   B19083001, Error                                           geometry  \n",
       "1            0.0607  MULTIPOLYGON (((-122.42663 37.80974, -122.4265...  \n",
       "2            0.0376  MULTIPOLYGON (((-122.41872 37.80593, -122.4183...  \n",
       "3            0.0693  MULTIPOLYGON (((-122.41488 37.80354, -122.4137...  \n",
       "4            0.0544  MULTIPOLYGON (((-122.40517 37.80476, -122.4035...  \n",
       "5            0.0435  MULTIPOLYGON (((-122.41102 37.80117, -122.4093...  "
      ]
     },
     "execution_count": 12,
     "metadata": {},
     "output_type": "execute_result"
    }
   ],
   "source": [
    "gini.head()"
   ]
  },
  {
   "cell_type": "code",
   "execution_count": 13,
   "metadata": {},
   "outputs": [
    {
     "data": {
      "text/plain": [
       "['geoid', 'name', 'B19083001', 'B19083001, Error', 'geometry']"
      ]
     },
     "execution_count": 13,
     "metadata": {},
     "output_type": "execute_result"
    }
   ],
   "source": [
    "# Clean the data to remove error columns\n",
    "list(gini)"
   ]
  },
  {
   "cell_type": "code",
   "execution_count": 32,
   "metadata": {},
   "outputs": [],
   "source": [
    "columns_to_keep = ['geoid',\n",
    "     'name',\n",
    "    'B19083001',\n",
    "    'geometry']"
   ]
  },
  {
   "cell_type": "code",
   "execution_count": 30,
   "metadata": {},
   "outputs": [],
   "source": [
    "gini = gini[columns_to_keep]"
   ]
  },
  {
   "cell_type": "code",
   "execution_count": 31,
   "metadata": {},
   "outputs": [
    {
     "data": {
      "text/html": [
       "<div>\n",
       "<style scoped>\n",
       "    .dataframe tbody tr th:only-of-type {\n",
       "        vertical-align: middle;\n",
       "    }\n",
       "\n",
       "    .dataframe tbody tr th {\n",
       "        vertical-align: top;\n",
       "    }\n",
       "\n",
       "    .dataframe thead th {\n",
       "        text-align: right;\n",
       "    }\n",
       "</style>\n",
       "<table border=\"1\" class=\"dataframe\">\n",
       "  <thead>\n",
       "    <tr style=\"text-align: right;\">\n",
       "      <th></th>\n",
       "      <th>geoid</th>\n",
       "      <th>name</th>\n",
       "      <th>B19083001</th>\n",
       "      <th>geometry</th>\n",
       "    </tr>\n",
       "  </thead>\n",
       "  <tbody>\n",
       "    <tr>\n",
       "      <th>1</th>\n",
       "      <td>14000US06075010200</td>\n",
       "      <td>Census Tract 102, San Francisco, CA</td>\n",
       "      <td>0.5606</td>\n",
       "      <td>MULTIPOLYGON (((-122.42663 37.80974, -122.4265...</td>\n",
       "    </tr>\n",
       "    <tr>\n",
       "      <th>2</th>\n",
       "      <td>14000US06075010300</td>\n",
       "      <td>Census Tract 103, San Francisco, CA</td>\n",
       "      <td>0.4512</td>\n",
       "      <td>MULTIPOLYGON (((-122.41872 37.80593, -122.4183...</td>\n",
       "    </tr>\n",
       "    <tr>\n",
       "      <th>3</th>\n",
       "      <td>14000US06075010400</td>\n",
       "      <td>Census Tract 104, San Francisco, CA</td>\n",
       "      <td>0.5328</td>\n",
       "      <td>MULTIPOLYGON (((-122.41488 37.80354, -122.4137...</td>\n",
       "    </tr>\n",
       "    <tr>\n",
       "      <th>4</th>\n",
       "      <td>14000US06075010500</td>\n",
       "      <td>Census Tract 105, San Francisco, CA</td>\n",
       "      <td>0.5094</td>\n",
       "      <td>MULTIPOLYGON (((-122.40517 37.80476, -122.4035...</td>\n",
       "    </tr>\n",
       "    <tr>\n",
       "      <th>5</th>\n",
       "      <td>14000US06075010600</td>\n",
       "      <td>Census Tract 106, San Francisco, CA</td>\n",
       "      <td>0.5615</td>\n",
       "      <td>MULTIPOLYGON (((-122.41102 37.80117, -122.4093...</td>\n",
       "    </tr>\n",
       "  </tbody>\n",
       "</table>\n",
       "</div>"
      ],
      "text/plain": [
       "                geoid                                 name  B19083001  \\\n",
       "1  14000US06075010200  Census Tract 102, San Francisco, CA     0.5606   \n",
       "2  14000US06075010300  Census Tract 103, San Francisco, CA     0.4512   \n",
       "3  14000US06075010400  Census Tract 104, San Francisco, CA     0.5328   \n",
       "4  14000US06075010500  Census Tract 105, San Francisco, CA     0.5094   \n",
       "5  14000US06075010600  Census Tract 106, San Francisco, CA     0.5615   \n",
       "\n",
       "                                            geometry  \n",
       "1  MULTIPOLYGON (((-122.42663 37.80974, -122.4265...  \n",
       "2  MULTIPOLYGON (((-122.41872 37.80593, -122.4183...  \n",
       "3  MULTIPOLYGON (((-122.41488 37.80354, -122.4137...  \n",
       "4  MULTIPOLYGON (((-122.40517 37.80476, -122.4035...  \n",
       "5  MULTIPOLYGON (((-122.41102 37.80117, -122.4093...  "
      ]
     },
     "execution_count": 31,
     "metadata": {},
     "output_type": "execute_result"
    }
   ],
   "source": [
    "# Now we can visualize the cleaned up data\n",
    "gini.head()"
   ]
  },
  {
   "cell_type": "code",
   "execution_count": 33,
   "metadata": {},
   "outputs": [],
   "source": [
    "# Rename headers of columns\n",
    "gini.columns = ['geoid',\n",
    " 'name',\n",
    "  'index value',\n",
    " 'geometry']"
   ]
  },
  {
   "cell_type": "code",
   "execution_count": 34,
   "metadata": {},
   "outputs": [
    {
     "data": {
      "text/plain": [
       "count    195.000000\n",
       "mean       0.471964\n",
       "std        0.060271\n",
       "min        0.196000\n",
       "25%        0.433100\n",
       "50%        0.466100\n",
       "75%        0.502850\n",
       "max        0.665900\n",
       "Name: index value, dtype: float64"
      ]
     },
     "execution_count": 34,
     "metadata": {},
     "output_type": "execute_result"
    }
   ],
   "source": [
    "gini['index value'].describe()"
   ]
  },
  {
   "cell_type": "code",
   "execution_count": 41,
   "metadata": {},
   "outputs": [
    {
     "data": {
      "text/plain": [
       "<matplotlib.axes._subplots.AxesSubplot at 0x7f571df490a0>"
      ]
     },
     "execution_count": 41,
     "metadata": {},
     "output_type": "execute_result"
    },
    {
     "data": {
      "image/png": "[encoded data removed]",
      "text/plain": [
       "<Figure size 432x288 with 1 Axes>"
      ]
     },
     "metadata": {
      "needs_background": "light"
     },
     "output_type": "display_data"
    }
   ],
   "source": [
    "plt.xlim(0, 1)\n",
    "gini['index value'].plot.hist(bins=50)"
   ]
  },
  {
   "cell_type": "code",
   "execution_count": 43,
   "metadata": {},
   "outputs": [],
   "source": [
    "gini_sorted = gini.sort_values(by='index value',ascending = False)"
   ]
  },
  {
   "cell_type": "code",
   "execution_count": 44,
   "metadata": {},
   "outputs": [
    {
     "data": {
      "text/html": [
       "<div>\n",
       "<style scoped>\n",
       "    .dataframe tbody tr th:only-of-type {\n",
       "        vertical-align: middle;\n",
       "    }\n",
       "\n",
       "    .dataframe tbody tr th {\n",
       "        vertical-align: top;\n",
       "    }\n",
       "\n",
       "    .dataframe thead th {\n",
       "        text-align: right;\n",
       "    }\n",
       "</style>\n",
       "<table border=\"1\" class=\"dataframe\">\n",
       "  <thead>\n",
       "    <tr style=\"text-align: right;\">\n",
       "      <th></th>\n",
       "      <th>index value</th>\n",
       "    </tr>\n",
       "  </thead>\n",
       "  <tbody>\n",
       "    <tr>\n",
       "      <th>count</th>\n",
       "      <td>195.000000</td>\n",
       "    </tr>\n",
       "    <tr>\n",
       "      <th>mean</th>\n",
       "      <td>0.471964</td>\n",
       "    </tr>\n",
       "    <tr>\n",
       "      <th>std</th>\n",
       "      <td>0.060271</td>\n",
       "    </tr>\n",
       "    <tr>\n",
       "      <th>min</th>\n",
       "      <td>0.196000</td>\n",
       "    </tr>\n",
       "    <tr>\n",
       "      <th>25%</th>\n",
       "      <td>0.433100</td>\n",
       "    </tr>\n",
       "    <tr>\n",
       "      <th>50%</th>\n",
       "      <td>0.466100</td>\n",
       "    </tr>\n",
       "    <tr>\n",
       "      <th>75%</th>\n",
       "      <td>0.502850</td>\n",
       "    </tr>\n",
       "    <tr>\n",
       "      <th>max</th>\n",
       "      <td>0.665900</td>\n",
       "    </tr>\n",
       "  </tbody>\n",
       "</table>\n",
       "</div>"
      ],
      "text/plain": [
       "       index value\n",
       "count   195.000000\n",
       "mean      0.471964\n",
       "std       0.060271\n",
       "min       0.196000\n",
       "25%       0.433100\n",
       "50%       0.466100\n",
       "75%       0.502850\n",
       "max       0.665900"
      ]
     },
     "execution_count": 44,
     "metadata": {},
     "output_type": "execute_result"
    }
   ],
   "source": [
    "gini_sorted[['geoid','index value']].describe()"
   ]
  },
  {
   "cell_type": "code",
   "execution_count": 45,
   "metadata": {},
   "outputs": [
    {
     "data": {
      "text/plain": [
       "<matplotlib.axes._subplots.AxesSubplot at 0x7f571e0e16a0>"
      ]
     },
     "execution_count": 45,
     "metadata": {},
     "output_type": "execute_result"
    },
    {
     "data": {
      "image/png": "[encoded data removed]",
      "text/plain": [
       "<Figure size 432x288 with 1 Axes>"
      ]
     },
     "metadata": {
      "needs_background": "light"
     },
     "output_type": "display_data"
    }
   ],
   "source": [
    "gini_sorted.head(100).plot()"
   ]
  },
  {
   "cell_type": "code",
   "execution_count": 55,
   "metadata": {},
   "outputs": [
    {
     "data": {
      "text/plain": [
       "<matplotlib.axes._subplots.AxesSubplot at 0x7f571b6097c0>"
      ]
     },
     "execution_count": 55,
     "metadata": {},
     "output_type": "execute_result"
    },
    {
     "data": {
      "image/png": "[encoded data removed]",
      "text/plain": [
       "<Figure size 720x720 with 2 Axes>"
      ]
     },
     "metadata": {
      "needs_background": "light"
     },
     "output_type": "display_data"
    }
   ],
   "source": [
    "gini_sorted.head(10000).plot(figsize=(10,10),column='index value',legend=True)"
   ]
  },
  {
   "cell_type": "code",
   "execution_count": null,
   "metadata": {},
   "outputs": [],
   "source": [
    "# This map shows us that the majority of San Francisco's census tracts fall between 0.4 and 0.6 Gini Income Inequality Index, thus in the middle of the distribution."
   ]
  },
  {
   "cell_type": "code",
   "execution_count": 56,
   "metadata": {},
   "outputs": [
    {
     "data": {
      "text/html": [
       "<div>\n",
       "<style scoped>\n",
       "    .dataframe tbody tr th:only-of-type {\n",
       "        vertical-align: middle;\n",
       "    }\n",
       "\n",
       "    .dataframe tbody tr th {\n",
       "        vertical-align: top;\n",
       "    }\n",
       "\n",
       "    .dataframe thead th {\n",
       "        text-align: right;\n",
       "    }\n",
       "</style>\n",
       "<table border=\"1\" class=\"dataframe\">\n",
       "  <thead>\n",
       "    <tr style=\"text-align: right;\">\n",
       "      <th></th>\n",
       "      <th>geoid</th>\n",
       "      <th>name</th>\n",
       "      <th>index value</th>\n",
       "      <th>geometry</th>\n",
       "    </tr>\n",
       "  </thead>\n",
       "  <tbody>\n",
       "    <tr>\n",
       "      <th>151</th>\n",
       "      <td>14000US06075032700</td>\n",
       "      <td>Census Tract 327, San Francisco, CA</td>\n",
       "      <td>0.4258</td>\n",
       "      <td>MULTIPOLYGON (((-122.49608 37.76467, -122.4959...</td>\n",
       "    </tr>\n",
       "    <tr>\n",
       "      <th>42</th>\n",
       "      <td>14000US06075015300</td>\n",
       "      <td>Census Tract 153, San Francisco, CA</td>\n",
       "      <td>0.3865</td>\n",
       "      <td>MULTIPOLYGON (((-122.44375 37.78765, -122.4421...</td>\n",
       "    </tr>\n",
       "    <tr>\n",
       "      <th>169</th>\n",
       "      <td>14000US06075042602</td>\n",
       "      <td>Census Tract 426.02, San Francisco, CA</td>\n",
       "      <td>0.4570</td>\n",
       "      <td>MULTIPOLYGON (((-122.47871 37.78603, -122.4776...</td>\n",
       "    </tr>\n",
       "    <tr>\n",
       "      <th>168</th>\n",
       "      <td>14000US06075042601</td>\n",
       "      <td>Census Tract 426.01, San Francisco, CA</td>\n",
       "      <td>0.5033</td>\n",
       "      <td>MULTIPOLYGON (((-122.48408 37.78580, -122.4830...</td>\n",
       "    </tr>\n",
       "    <tr>\n",
       "      <th>17</th>\n",
       "      <td>14000US06075012000</td>\n",
       "      <td>Census Tract 120, San Francisco, CA</td>\n",
       "      <td>0.4914</td>\n",
       "      <td>MULTIPOLYGON (((-122.42208 37.78847, -122.4218...</td>\n",
       "    </tr>\n",
       "  </tbody>\n",
       "</table>\n",
       "</div>"
      ],
      "text/plain": [
       "                  geoid                                    name  index value  \\\n",
       "151  14000US06075032700     Census Tract 327, San Francisco, CA       0.4258   \n",
       "42   14000US06075015300     Census Tract 153, San Francisco, CA       0.3865   \n",
       "169  14000US06075042602  Census Tract 426.02, San Francisco, CA       0.4570   \n",
       "168  14000US06075042601  Census Tract 426.01, San Francisco, CA       0.5033   \n",
       "17   14000US06075012000     Census Tract 120, San Francisco, CA       0.4914   \n",
       "\n",
       "                                              geometry  \n",
       "151  MULTIPOLYGON (((-122.49608 37.76467, -122.4959...  \n",
       "42   MULTIPOLYGON (((-122.44375 37.78765, -122.4421...  \n",
       "169  MULTIPOLYGON (((-122.47871 37.78603, -122.4776...  \n",
       "168  MULTIPOLYGON (((-122.48408 37.78580, -122.4830...  \n",
       "17   MULTIPOLYGON (((-122.42208 37.78847, -122.4218...  "
      ]
     },
     "execution_count": 56,
     "metadata": {},
     "output_type": "execute_result"
    }
   ],
   "source": [
    "gini.sample(5)"
   ]
  },
  {
   "cell_type": "code",
   "execution_count": null,
   "metadata": {},
   "outputs": [],
   "source": []
  }
 ],
 "metadata": {
  "kernelspec": {
   "display_name": "Python 3",
   "language": "python",
   "name": "python3"
  },
  "language_info": {
   "codemirror_mode": {
    "name": "ipython",
    "version": 3
   },
   "file_extension": ".py",
   "mimetype": "text/x-python",
   "name": "python",
   "nbconvert_exporter": "python",
   "pygments_lexer": "ipython3",
   "version": "3.8.5"
  },
  "toc": {
   "base_numbering": 1,
   "nav_menu": {},
   "number_sections": true,
   "sideBar": true,
   "skip_h1_title": false,
   "title_cell": "Table of Contents",
   "title_sidebar": "Contents",
   "toc_cell": false,
   "toc_position": {},
   "toc_section_display": true,
   "toc_window_display": false
  }
 },
 "nbformat": 4,
 "nbformat_minor": 4
}
